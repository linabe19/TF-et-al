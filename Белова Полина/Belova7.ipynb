{
 "cells": [
  {
   "cell_type": "code",
   "execution_count": 1,
   "metadata": {},
   "outputs": [
    {
     "name": "stdout",
     "output_type": "stream",
     "text": [
      "{1: 2242, 2: 690, 3: 7482, 4: 2403, 5: 1980, 6: 3577, 7: 141, 8: 624, 9: 882, 10: 851, 11: 1825, 12: 4230}\n"
     ]
    }
   ],
   "source": [
    "import random\n",
    "col=random.randint (1, 25)\n",
    "d={}\n",
    "for i in range(1, col+1):\n",
    "    x=random.randint (1,100) \n",
    "    y=random.randint (1,100)\n",
    "    d[i] = [x,y]\n",
    "d_s = {}\n",
    "for p in d:\n",
    "    d_s[p] = d.get(p)[0]*d.get(p)[1]\n",
    "print(d_s)"
   ]
  },
  {
   "cell_type": "code",
   "execution_count": 2,
   "metadata": {},
   "outputs": [
    {
     "name": "stdout",
     "output_type": "stream",
     "text": [
      "[7, 8, 2, 10, 9, 11, 5, 1, 4, 6, 12, 3]\n"
     ]
    }
   ],
   "source": [
    "# сортировка по площади\n",
    "sort_p = sorted(d_s, key=d_s.get)\n",
    "print(sort_p)"
   ]
  },
  {
   "cell_type": "code",
   "execution_count": 3,
   "metadata": {},
   "outputs": [
    {
     "name": "stdout",
     "output_type": "stream",
     "text": [
      "{1: 'горизонтальный', 2: 'горизонтальный', 3: 'горизонтальный', 4: 'горизонтальный', 5: 'вертикальный', 6: 'горизонтальный', 7: 'вертикальный', 8: 'вертикальный', 9: 'вертикальный', 10: 'горизонтальный', 11: 'вертикальный', 12: 'горизонтальный'}\n"
     ]
    }
   ],
   "source": [
    "d_orient={}\n",
    "for p in d:\n",
    "    if d.get(p)[0]>d.get(p)[1]:\n",
    "        d_orient[p]= 'вертикальный'\n",
    "    elif d.get(p)[1]>d.get(p)[0]:\n",
    "        d_orient[p]='горизонтальный'\n",
    "    else:\n",
    "        d_orient[p]='квадрат'\n",
    "print(d_orient)"
   ]
  },
  {
   "cell_type": "code",
   "execution_count": null,
   "metadata": {},
   "outputs": [],
   "source": []
  },
  {
   "cell_type": "code",
   "execution_count": null,
   "metadata": {},
   "outputs": [],
   "source": []
  }
 ],
 "metadata": {
  "kernelspec": {
   "display_name": "Python 3",
   "language": "python",
   "name": "python3"
  },
  "language_info": {
   "codemirror_mode": {
    "name": "ipython",
    "version": 3
   },
   "file_extension": ".py",
   "mimetype": "text/x-python",
   "name": "python",
   "nbconvert_exporter": "python",
   "pygments_lexer": "ipython3",
   "version": "3.6.5"
  }
 },
 "nbformat": 4,
 "nbformat_minor": 2
}
